{
  "nbformat": 4,
  "nbformat_minor": 0,
  "metadata": {
    "colab": {
      "name": "張書豪week11-2.ipynb",
      "provenance": [],
      "authorship_tag": "ABX9TyNcGATHlUx66J87ZdTmOHLp",
      "include_colab_link": true
    },
    "kernelspec": {
      "name": "python3",
      "display_name": "Python 3"
    }
  },
  "cells": [
    {
      "cell_type": "markdown",
      "metadata": {
        "id": "view-in-github",
        "colab_type": "text"
      },
      "source": [
        "<a href=\"https://colab.research.google.com/github/howard-chang24/computational-thinking/blob/master/%E5%BC%B5%E6%9B%B8%E8%B1%AAweek11_2.ipynb\" target=\"_parent\"><img src=\"https://colab.research.google.com/assets/colab-badge.svg\" alt=\"Open In Colab\"/></a>"
      ]
    },
    {
      "cell_type": "code",
      "metadata": {
        "colab": {
          "base_uri": "https://localhost:8080/"
        },
        "id": "bjGHmi6ziibl",
        "outputId": "d79550d6-01c8-4520-bd5f-4fe3ba842d10"
      },
      "source": [
        "print(\"哈囉，大家好。我叫Zyxo64，是一個聊天機器人。\")\n",
        "\n",
        "hobby = \"我很喜歡美食東西，也喜歡動物。今天很高興有機會來到世新大學，請大家多多指教\"\n",
        "print( hobby )"
      ],
      "execution_count": 2,
      "outputs": [
        {
          "output_type": "stream",
          "text": [
            "哈囉，大家好。我叫Zyxo64，是一個聊天機器人。\n",
            "我很喜歡美食東西，也喜歡動物。今天很高興有機會來到世新大學，請大家多多指教\n"
          ],
          "name": "stdout"
        }
      ]
    },
    {
      "cell_type": "code",
      "metadata": {
        "colab": {
          "base_uri": "https://localhost:8080/"
        },
        "id": "iH1phuABjqgK",
        "outputId": "e5ac0506-2989-47b6-a384-6dde422cc2b7"
      },
      "source": [
        "name = input(\"嗨!妳好,請問大名?: \")\n",
        "print(\"我叫\", name)\n",
        "print(\"你好\", name, \"很高興認識你\")"
      ],
      "execution_count": 3,
      "outputs": [
        {
          "output_type": "stream",
          "text": [
            "嗨!妳好,請問大名?: c \n",
            "我叫 c \n",
            "你好 c  很高興認識你\n"
          ],
          "name": "stdout"
        }
      ]
    },
    {
      "cell_type": "code",
      "metadata": {
        "colab": {
          "base_uri": "https://localhost:8080/"
        },
        "id": "xvN684Kvm_Nw",
        "outputId": "c588265b-10b6-42aa-c455-97f839588f0a"
      },
      "source": [
        "year = input(\"請問一下今年是西元2020年,那是民國幾年呢? \")\n",
        "print(\"對!應該沒錯,謝謝妳!\")"
      ],
      "execution_count": 4,
      "outputs": [
        {
          "output_type": "stream",
          "text": [
            "請問一下今年是西元2020年,那是民國幾年呢? 2020\n",
            "對!應該沒錯,謝謝妳!\n"
          ],
          "name": "stdout"
        }
      ]
    },
    {
      "cell_type": "code",
      "metadata": {
        "colab": {
          "base_uri": "https://localhost:8080/"
        },
        "id": "aiq8fwZWnG9t",
        "outputId": "5baf8643-920a-463c-9353-b0eb727097f4"
      },
      "source": [
        "myage = int(input(\"再猜猜看我今年幾歲? \"))\n",
        "print(\"哇!你好聰明,我今年的確\", myage)"
      ],
      "execution_count": 5,
      "outputs": [
        {
          "output_type": "stream",
          "text": [
            "再猜猜看我今年幾歲? 20\n",
            "哇!你好聰明,我今年的確 20\n"
          ],
          "name": "stdout"
        }
      ]
    },
    {
      "cell_type": "code",
      "metadata": {
        "colab": {
          "base_uri": "https://localhost:8080/"
        },
        "id": "zZEgVyHhnMGa",
        "outputId": "05bf71ce-0d21-4de4-822b-34b3dbf92879"
      },
      "source": [
        "nyears = 100 - myage\n",
        "print(\"我再\", nyears, \"年就滿100歲了。\")"
      ],
      "execution_count": 6,
      "outputs": [
        {
          "output_type": "stream",
          "text": [
            "我再 80 年就滿100歲了。\n"
          ],
          "name": "stdout"
        }
      ]
    },
    {
      "cell_type": "code",
      "metadata": {
        "colab": {
          "base_uri": "https://localhost:8080/"
        },
        "id": "R2k1mKCVnUD3",
        "outputId": "97488a43-2642-406d-8bee-8d9dcebf88d2"
      },
      "source": [
        "print(\"到時候是西元\", int(year) + nyears + 1911, \"年\")"
      ],
      "execution_count": 7,
      "outputs": [
        {
          "output_type": "stream",
          "text": [
            "到時候是西元 4011 年\n"
          ],
          "name": "stdout"
        }
      ]
    },
    {
      "cell_type": "code",
      "metadata": {
        "colab": {
          "base_uri": "https://localhost:8080/"
        },
        "id": "8ZopRsqanrju",
        "outputId": "fbd2873d-1952-4f5e-ccf4-2baa5a346836"
      },
      "source": [
        "print(\"我喜歡巧克力,也喜歡嘗試各種新食物。\")\n",
        "food = input(\"你呢。你最喜歡的食物是什麼?: \")\n",
        "print(\"我也喜歡\", food)\n",
        "question = \"你多久吃一次\" + food + \"?: \"\n",
        "howoften = input(question)\n",
        "print(\"真有趣。不知道這樣對健康好不好!\")"
      ],
      "execution_count": 8,
      "outputs": [
        {
          "output_type": "stream",
          "text": [
            "我喜歡巧克力,也喜歡嘗試各種新食物。\n",
            "你呢。你最喜歡的食物是什麼?: 巧克力\n",
            "我也喜歡 巧克力\n",
            "你多久吃一次巧克力?: 每天\n",
            "真有趣。不知道這樣對健康好不好!\n"
          ],
          "name": "stdout"
        }
      ]
    },
    {
      "cell_type": "code",
      "metadata": {
        "colab": {
          "base_uri": "https://localhost:8080/"
        },
        "id": "kWNieRzwn0zy",
        "outputId": "6dfe5420-2526-4df9-ab0d-9e86e22bb9c1"
      },
      "source": [
        "animal = input(\"我最喜歡的動物是長頸鹿。你呢?; \")\n",
        "print(\"我不喜歡\", animal)\n",
        "print(\"不知道\", animal, \"喜不喜歡吃\", food, \"?\")"
      ],
      "execution_count": 17,
      "outputs": [
        {
          "output_type": "stream",
          "text": [
            "我最喜歡的動物是長頸鹿。你呢?; 烏龜\n",
            "我不喜歡 烏龜\n",
            "不知道 烏龜 喜不喜歡吃 巧克力 ?\n"
          ],
          "name": "stdout"
        }
      ]
    },
    {
      "cell_type": "code",
      "metadata": {
        "colab": {
          "base_uri": "https://localhost:8080/"
        },
        "id": "8L4cNpIApEXP",
        "outputId": "444a9a4f-dce5-45d2-c412-b2a9cccf3cb1"
      },
      "source": [
        "feeling = input(\"你今天心情如何?; \")\n",
        "print(\"告訴我你現在\", feeling, \"的原因。 \")\n",
        "reason = input(\"為什麼: \")\n",
        "print(\"我知道了。謝謝分享。\")"
      ],
      "execution_count": 18,
      "outputs": [
        {
          "output_type": "stream",
          "text": [
            "你今天心情如何?; 還好\n",
            "告訴我你現在 還好 的原因。 \n",
            "為什麼: 不知道\n",
            "我知道了。謝謝分享。\n"
          ],
          "name": "stdout"
        }
      ]
    },
    {
      "cell_type": "code",
      "metadata": {
        "colab": {
          "base_uri": "https://localhost:8080/"
        },
        "id": "R2fknRDspMN8",
        "outputId": "647b541d-e515-464e-8fb9-d2abde76fc3b"
      },
      "source": [
        "print(\"今天事情真多!我累了,下次再聊。\")\n",
        "print(\"再見\", name, \"我喜歡跟你聊天!\")"
      ],
      "execution_count": 19,
      "outputs": [
        {
          "output_type": "stream",
          "text": [
            "今天事情真多!我累了,下次再聊。\n",
            "再見 c  我喜歡跟你聊天!\n"
          ],
          "name": "stdout"
        }
      ]
    }
  ]
}