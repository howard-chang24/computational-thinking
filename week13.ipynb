{
  "nbformat": 4,
  "nbformat_minor": 0,
  "metadata": {
    "colab": {
      "name": "week13.ipynb",
      "provenance": [],
      "authorship_tag": "ABX9TyOTzbYo+P3po+OvvJUcfxlZ",
      "include_colab_link": true
    },
    "kernelspec": {
      "name": "python3",
      "display_name": "Python 3"
    }
  },
  "cells": [
    {
      "cell_type": "markdown",
      "metadata": {
        "id": "view-in-github",
        "colab_type": "text"
      },
      "source": [
        "<a href=\"https://colab.research.google.com/github/howard-chang24/computational-thinking/blob/master/week13.ipynb\" target=\"_parent\"><img src=\"https://colab.research.google.com/assets/colab-badge.svg\" alt=\"Open In Colab\"/></a>"
      ]
    },
    {
      "cell_type": "code",
      "metadata": {
        "colab": {
          "base_uri": "https://localhost:8080/"
        },
        "id": "r9NguiJljl-0",
        "outputId": "f71dac0d-f13a-4ad1-f8a5-a8036e7406f0"
      },
      "source": [
        "for i in range(0,5,1):\r\n",
        "  print(\"hello\")"
      ],
      "execution_count": 1,
      "outputs": [
        {
          "output_type": "stream",
          "text": [
            "hello\n",
            "hello\n",
            "hello\n",
            "hello\n",
            "hello\n"
          ],
          "name": "stdout"
        }
      ]
    },
    {
      "cell_type": "code",
      "metadata": {
        "colab": {
          "base_uri": "https://localhost:8080/"
        },
        "id": "y-K_xmpBlTnq",
        "outputId": "ab7f1623-dd83-4cf6-9ce2-ec8e92f30612"
      },
      "source": [
        "for i in range(100,90,-3):\r\n",
        "  print(i)"
      ],
      "execution_count": 3,
      "outputs": [
        {
          "output_type": "stream",
          "text": [
            "100\n",
            "97\n",
            "94\n",
            "91\n"
          ],
          "name": "stdout"
        }
      ]
    },
    {
      "cell_type": "code",
      "metadata": {
        "colab": {
          "base_uri": "https://localhost:8080/"
        },
        "id": "Ejgs5lYbr04Y",
        "outputId": "6afcf950-5df4-409b-ddd8-9c28caa8006a"
      },
      "source": [
        "sum = 0\r\n",
        "for i in range(3,14,3):\r\n",
        "  sum = sum + i # sum += i\r\n",
        "print(\"total is\",sum)"
      ],
      "execution_count": 4,
      "outputs": [
        {
          "output_type": "stream",
          "text": [
            "total is 30\n"
          ],
          "name": "stdout"
        }
      ]
    }
  ]
}