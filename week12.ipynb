{
  "nbformat": 4,
  "nbformat_minor": 0,
  "metadata": {
    "colab": {
      "name": "week12.ipynb",
      "provenance": [],
      "authorship_tag": "ABX9TyPv74Ltr5C/BT6hdJzvE51J",
      "include_colab_link": true
    },
    "kernelspec": {
      "name": "python3",
      "display_name": "Python 3"
    }
  },
  "cells": [
    {
      "cell_type": "markdown",
      "metadata": {
        "id": "view-in-github",
        "colab_type": "text"
      },
      "source": [
        "<a href=\"https://colab.research.google.com/github/howard-chang24/computational-thinking/blob/master/week12.ipynb\" target=\"_parent\"><img src=\"https://colab.research.google.com/assets/colab-badge.svg\" alt=\"Open In Colab\"/></a>"
      ]
    },
    {
      "cell_type": "code",
      "metadata": {
        "colab": {
          "base_uri": "https://localhost:8080/"
        },
        "id": "E1awQ9l-w7a1",
        "outputId": "a2ea58d1-0f4e-4013-db9b-35fc735dd100"
      },
      "source": [
        "# [0,1,2,3,4,5,6,7,8,9]\n",
        "a = range(10) # range(0,5,1)\n",
        "print(a)\n",
        "range(0, 10)\n",
        "print(a[0], a[1], a[2], a[3], a[4], a[5], a[6], a[7], a[8], a[9])\n",
        "\n",
        "# [0,2,4,6,8]\n",
        "b = range(0, 9)\n",
        "print(b[0], b[1], b[2], b[3])\n",
        "\n",
        "# [5,7,9]\n",
        "c = range(5, 10, 2)\n",
        "print(c[0], c[1], c[2])\n",
        "\n",
        "# [0, -1, -2, -3, -4, -5, -6, -7, -8, -9]\n",
        "d = range(10, 3, -2)\n",
        "print(d[0], d[1], d[2], d[3])"
      ],
      "execution_count": 11,
      "outputs": [
        {
          "output_type": "stream",
          "text": [
            "range(0, 10)\n",
            "0 1 2 3 4 5 6 7 8 9\n",
            "0 1 2 3\n",
            "5 7 9\n",
            "10 8 6 4\n"
          ],
          "name": "stdout"
        }
      ]
    },
    {
      "cell_type": "markdown",
      "metadata": {
        "id": "WBSDjGlwz65E"
      },
      "source": [
        "project_title=\"\n",
        "name_list=[\"張家瑄\",\"陳捷妮\",\"張書豪\",\"鄧橋勳\",\"孫紹為\",\"陳冠霖\",\"王昱翔\"]\n",
        "number_list\n",
        "duty_list\n",
        "load_list"
      ]
    }
  ]
}