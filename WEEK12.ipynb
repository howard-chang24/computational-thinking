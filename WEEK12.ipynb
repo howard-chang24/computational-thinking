{
  "nbformat": 4,
  "nbformat_minor": 0,
  "metadata": {
    "colab": {
      "name": "WEEK12.ipynb",
      "provenance": [],
      "authorship_tag": "ABX9TyMtH1eF+f6tSH6bhSasd9vr",
      "include_colab_link": true
    },
    "kernelspec": {
      "name": "python3",
      "display_name": "Python 3"
    }
  },
  "cells": [
    {
      "cell_type": "markdown",
      "metadata": {
        "id": "view-in-github",
        "colab_type": "text"
      },
      "source": [
        "<a href=\"https://colab.research.google.com/github/howard-chang24/computational-thinking/blob/master/WEEK12.ipynb\" target=\"_parent\"><img src=\"https://colab.research.google.com/assets/colab-badge.svg\" alt=\"Open In Colab\"/></a>"
      ]
    },
    {
      "cell_type": "code",
      "metadata": {
        "colab": {
          "base_uri": "https://localhost:8080/"
        },
        "id": "oU-Fn5xlciBF",
        "outputId": "bb6614d1-2c4c-425f-969b-2db9b5d3f630"
      },
      "source": [
        "#購物清單\n",
        "shopping_list = ['牛排', '半熟蛋', '奶茶', '燒烤', '火鍋']\n",
        "print(shopping_list)"
      ],
      "execution_count": 17,
      "outputs": [
        {
          "output_type": "stream",
          "text": [
            "['牛排', '半熟蛋', '奶茶', '燒烤', '火鍋']\n"
          ],
          "name": "stdout"
        }
      ]
    },
    {
      "cell_type": "code",
      "metadata": {
        "colab": {
          "base_uri": "https://localhost:8080/"
        },
        "id": "bI7ott_zlCC9",
        "outputId": "1381ebc6-d3c7-4c68-a172-2d66bf91b531"
      },
      "source": [
        "#NBA冠軍隊的六筆資訊\n",
        "season = \"2013-2014\"\n",
        "team = \"san antonio spurs\"\n",
        "coach = \"Gregg Popovich\"\n",
        "records = [67, 15]\n",
        "starting = [\"Tim Duncan\", \"Tony Parker\", \"Kawhi Leonard\", \"Manu Ginobili\", \"Richard Jefferson\"]\n",
        "champion = True\n",
        "best_NBA = list((season, team, coach, records, starting,\n",
        "champion))\n",
        "print(best_NBA)\n",
        "['2013-2014', 'san antonio spurs', 'Gregg Popovich', [67, 15], ['Tim Duncan', 'Tony Parker', 'Kawhi Leonard', 'Manu Ginobili',\n",
        "'Richard Jefferson'], True]\n",
        "print(type(best_NBA))\n",
        "print(best_NBA[-2])\n",
        "['Tim Duncan', 'Tony Parker', 'Kawhi Leonard', 'Manu Ginobili', 'Richard Jefferson']\n",
        "print(best_NBA[1:4])\n",
        "['san antonio spurs', 'Gregg Popovich', [67, 15]]"
      ],
      "execution_count": 18,
      "outputs": [
        {
          "output_type": "stream",
          "text": [
            "['2013-2014', 'san antonio spurs', 'Gregg Popovich', [67, 15], ['Tim Duncan', 'Tony Parker', 'Kawhi Leonard', 'Manu Ginobili', 'Richard Jefferson'], True]\n",
            "<class 'list'>\n",
            "['Tim Duncan', 'Tony Parker', 'Kawhi Leonard', 'Manu Ginobili', 'Richard Jefferson']\n",
            "['san antonio spurs', 'Gregg Popovich', [67, 15]]\n"
          ],
          "name": "stdout"
        },
        {
          "output_type": "execute_result",
          "data": {
            "text/plain": [
              "['san antonio spurs', 'Gregg Popovich', [67, 15]]"
            ]
          },
          "metadata": {
            "tags": []
          },
          "execution_count": 18
        }
      ]
    }
  ]
}