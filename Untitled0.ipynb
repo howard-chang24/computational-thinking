{
  "nbformat": 4,
  "nbformat_minor": 0,
  "metadata": {
    "colab": {
      "name": "Untitled0.ipynb",
      "provenance": [],
      "authorship_tag": "ABX9TyPKjweXn65/Ckbhhb1m3K4I",
      "include_colab_link": true
    },
    "kernelspec": {
      "name": "python3",
      "display_name": "Python 3"
    }
  },
  "cells": [
    {
      "cell_type": "markdown",
      "metadata": {
        "id": "view-in-github",
        "colab_type": "text"
      },
      "source": [
        "<a href=\"https://colab.research.google.com/github/howard-chang24/computational-thinking/blob/master/Untitled0.ipynb\" target=\"_parent\"><img src=\"https://colab.research.google.com/assets/colab-badge.svg\" alt=\"Open In Colab\"/></a>"
      ]
    },
    {
      "cell_type": "code",
      "metadata": {
        "id": "DJrPbpeUqsRj",
        "outputId": "c337d7ec-2bd5-457e-d25d-4c9b146c8bc1",
        "colab": {
          "base_uri": "https://localhost:8080/"
        }
      },
      "source": [
        "cloth=int(input('請輸入上衣數量?'))\n",
        "trouser=int(input('請輸入褲子購買數量?'))\n",
        "vest=int(input('請輸入背心購買數量?'))\n",
        "\n",
        "total=cloth*300+trouser*350+vest*400\n",
        "\n",
        "print('訂購服裝的總經額為',total)"
      ],
      "execution_count": 13,
      "outputs": [
        {
          "output_type": "stream",
          "text": [
            "請輸入上衣數量?10\n",
            "請輸入褲子購買數量?20\n",
            "請輸入背心購買數量?30\n",
            "訂購服裝的總經額為 22000\n"
          ],
          "name": "stdout"
        }
      ]
    },
    {
      "cell_type": "code",
      "metadata": {
        "id": "I9hjR2pLtdM_"
      },
      "source": [
        ""
      ],
      "execution_count": null,
      "outputs": []
    }
  ]
}