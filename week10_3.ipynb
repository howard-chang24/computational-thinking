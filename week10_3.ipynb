{
  "nbformat": 4,
  "nbformat_minor": 0,
  "metadata": {
    "colab": {
      "name": "week10-3.ipynb",
      "provenance": [],
      "authorship_tag": "ABX9TyOe3V8Q5iSlSRLXhhecsn4A",
      "include_colab_link": true
    },
    "kernelspec": {
      "name": "python3",
      "display_name": "Python 3"
    }
  },
  "cells": [
    {
      "cell_type": "markdown",
      "metadata": {
        "id": "view-in-github",
        "colab_type": "text"
      },
      "source": [
        "<a href=\"https://colab.research.google.com/github/howard-chang24/computational-thinking/blob/master/week10_3.ipynb\" target=\"_parent\"><img src=\"https://colab.research.google.com/assets/colab-badge.svg\" alt=\"Open In Colab\"/></a>"
      ]
    },
    {
      "cell_type": "code",
      "metadata": {
        "colab": {
          "base_uri": "https://localhost:8080/"
        },
        "id": "WljXSlQJkrms",
        "outputId": "37ea2eee-ba4a-434e-e026-50b1781ae3b4"
      },
      "source": [
        "seat_number = int(input())\n",
        "group = seat_number / 5\n",
        "import math\n",
        "group = math.ceil(seat_number / 5)\n",
        "print(\"座號為\",seat_number,\"組別為\",group)"
      ],
      "execution_count": 1,
      "outputs": [
        {
          "output_type": "stream",
          "text": [
            "19\n",
            "座號為 19 組別為 4\n"
          ],
          "name": "stdout"
        }
      ]
    }
  ]
}