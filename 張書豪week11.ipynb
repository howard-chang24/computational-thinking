{
  "nbformat": 4,
  "nbformat_minor": 0,
  "metadata": {
    "colab": {
      "name": "張書豪week11.ipynb",
      "provenance": [],
      "authorship_tag": "ABX9TyOe04xZBLdIG3cujN9LaF/3",
      "include_colab_link": true
    },
    "kernelspec": {
      "name": "python3",
      "display_name": "Python 3"
    }
  },
  "cells": [
    {
      "cell_type": "markdown",
      "metadata": {
        "id": "view-in-github",
        "colab_type": "text"
      },
      "source": [
        "<a href=\"https://colab.research.google.com/github/howard-chang24/computational-thinking/blob/master/%E5%BC%B5%E6%9B%B8%E8%B1%AAweek11.ipynb\" target=\"_parent\"><img src=\"https://colab.research.google.com/assets/colab-badge.svg\" alt=\"Open In Colab\"/></a>"
      ]
    },
    {
      "cell_type": "code",
      "metadata": {
        "colab": {
          "base_uri": "https://localhost:8080/"
        },
        "id": "7vYL3V8-ZwQW",
        "outputId": "dbb49a45-7010-476b-d298-637e1eebd1a2"
      },
      "source": [
        "## Input\n",
        "seat = int(input(\"Enter a seat number? \"))\n",
        "## Process\n",
        "group = (seat - 1) // 5 + 1\n",
        "## output\n",
        "print(\"group is\", group)"
      ],
      "execution_count": 2,
      "outputs": [
        {
          "output_type": "stream",
          "text": [
            "Enter a seat number? 19\n",
            "group is 4\n"
          ],
          "name": "stdout"
        }
      ]
    },
    {
      "cell_type": "code",
      "metadata": {
        "colab": {
          "base_uri": "https://localhost:8080/"
        },
        "id": "aoPre87_alKW",
        "outputId": "84eceb97-16dc-49db-e28c-91712b427918"
      },
      "source": [
        "## Input\n",
        "seat = int(input(\"enter a seat number? \"))\n",
        "\n",
        "## Process\n",
        "import math\n",
        "group = math.ceil(seat/5)\n",
        "\n",
        "## Output\n",
        "print(\"Group is\", group)"
      ],
      "execution_count": 3,
      "outputs": [
        {
          "output_type": "stream",
          "text": [
            "enter a seat number? 19\n",
            "Group is 4\n"
          ],
          "name": "stdout"
        }
      ]
    }
  ]
}