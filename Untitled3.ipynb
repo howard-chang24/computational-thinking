{
  "nbformat": 4,
  "nbformat_minor": 0,
  "metadata": {
    "colab": {
      "name": "Untitled3.ipynb",
      "provenance": [],
      "authorship_tag": "ABX9TyMVzPE2De/0R+utCKAuaakj",
      "include_colab_link": true
    },
    "kernelspec": {
      "name": "python3",
      "display_name": "Python 3"
    }
  },
  "cells": [
    {
      "cell_type": "markdown",
      "metadata": {
        "id": "view-in-github",
        "colab_type": "text"
      },
      "source": [
        "<a href=\"https://colab.research.google.com/github/howard-chang24/computational-thinking/blob/master/Untitled3.ipynb\" target=\"_parent\"><img src=\"https://colab.research.google.com/assets/colab-badge.svg\" alt=\"Open In Colab\"/></a>"
      ]
    },
    {
      "cell_type": "code",
      "metadata": {
        "colab": {
          "base_uri": "https://localhost:8080/"
        },
        "id": "5kiC9TAFcqW8",
        "outputId": "c9f44f9e-7f0c-4c1d-bcba-c7cf32b17f3f"
      },
      "source": [
        "movie_title = \"money_ball\"\n",
        "release_year = \"2011\"\n",
        "movie_time_mins = 133\n",
        "movie_rating = 7.6\n",
        "\n",
        "director = \"bennet miller\"\n",
        "stars_1 = \"Brad Pitt\"\n",
        "stars_2 = \"Robin Wright\"\n",
        "stars_3 = \"John Hill\"\n",
        "\n",
        "print(\"電影英文名稱\",movie_title)\n",
        "print(\"電影上映年份\",release_year)\n",
        "print(\"電影時間長度\",movie_time_mins)\n",
        "print(\"電影的導演\",director)\n",
        "print(\"電影主角\",stars_1, stars_2, stars_3)"
      ],
      "execution_count": 5,
      "outputs": [
        {
          "output_type": "stream",
          "text": [
            "電影英文名稱 money_ball\n",
            "電影上映年份 2011\n",
            "電影時間長度 133\n",
            "電影的導演 bennet miller\n",
            "電影主角 Brad Pitt Robin Wright John Hill\n"
          ],
          "name": "stdout"
        }
      ]
    }
  ]
}